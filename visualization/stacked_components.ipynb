{
 "cells": [
  {
   "cell_type": "code",
   "execution_count": null,
   "metadata": {
    "collapsed": false
   },
   "outputs": [],
   "source": [
    "%matplotlib inline\n",
    "import numpy as np\n",
    "import matplotlib.pyplot as plt\n",
    "from utils.matplotlib_visualization_utils import plot_data1d_histogram, plot_densities\n",
    "from ConfigParser import SafeConfigParser"
   ]
  },
  {
   "cell_type": "code",
   "execution_count": null,
   "metadata": {
    "collapsed": true
   },
   "outputs": [],
   "source": [
    "mpl_plot_config_fname = "
   ]
  },
  {
   "cell_type": "code",
   "execution_count": null,
   "metadata": {
    "collapsed": true
   },
   "outputs": [],
   "source": [
    "parser = SafeConfigParser()\n",
    "parser.read(mpl_plot_config_fname)\n",
    "\n",
    "test_data_dir = parser.get('stacked', 'test_data_dir')\n",
    "test_fin = parser.get('stacked', 'test_fin')\n",
    "\n",
    "mpl_data_dir = parser.get('stacked', 'mpl_data_dir')\n",
    "\n",
    "x_fin = parser.get('stacked', 'x_fin')\n",
    "y_fin = parser.get('stacked', 'y_fin')\n",
    "\n",
    "optimized_stacked_x_fout = parser.get('stacked', 'optimized_stacked_x_fout')\n",
    "optimized_stacked_y_fout = parser.get('stacked', 'optimized_stacked_y_fout')\n",
    "truth_stacked_x_fout = parser.get('stacked', 'truth_stacked_x_fout')\n",
    "truth_stacked_y_fout = parser.get('stacked', 'truth_stacked_y_fout')\n",
    "overlay_x_fout = parser.get('stacked', 'overlay_x_fout')\n",
    "overlay_stacked_y_fout = parser.get('stacked', 'overlay_y_fout')\n",
    "\n",
    "true_proportions = map(float, parser.get('stacked', 'true_proportions').split())\n",
    "optimized_proportions = map(float, parser.get('stacked', 'true_proportions').split())\n",
    "\n",
    "plot_truth_stack = bool(int(parser.get('stacked', 'plot_truth_stack')))\n",
    "save_fig = bool(int(parser.get('stacked', 'save_fig')))"
   ]
  },
  {
   "cell_type": "code",
   "execution_count": null,
   "metadata": {
    "collapsed": false
   },
   "outputs": [],
   "source": [
    "test_data = np.genfromtxt(test_data_dir + '/' + test_fin)"
   ]
  },
  {
   "cell_type": "code",
   "execution_count": null,
   "metadata": {
    "collapsed": false
   },
   "outputs": [],
   "source": [
    "stack_x = np.genfromtxt(mpl_data_dir + '/' + x_fin)\n",
    "stack_y = np.genfromtxt(mpl_data_dir + '/' + y_fin)"
   ]
  },
  {
   "cell_type": "code",
   "execution_count": null,
   "metadata": {
    "collapsed": false
   },
   "outputs": [],
   "source": [
    "fig = plt.figure(figsize=(6*1.618,6))\n",
    "ax = fig.add_subplot(1,1,1)\n",
    "plot_densities(stack_x, stacked=False, ax=ax, xlabel=r'$Z_1$')\n",
    "plot_data1d_histogram(test_data[:,0], bins=100,normed=True, ax=ax, xlabel=r'$Z_1$');\n",
    "if save_fig: fig.savefig(overlay_x_fout)\n",
    "\n",
    "fig = plt.figure(figsize=(6*1.618,6))\n",
    "ax = fig.add_subplot(1,1,1)\n",
    "plot_densities(stack_y, stacked=False, ax=ax, xlabel=r'$Z_2$')\n",
    "plot_data1d_histogram(test_data[:,1], bins=100,normed=True, ax=ax, xlabel=r'$Z_2$');\n",
    "if save_fig: fig.savefig(overlay_y_fout)"
   ]
  },
  {
   "cell_type": "code",
   "execution_count": null,
   "metadata": {
    "collapsed": false
   },
   "outputs": [],
   "source": [
    "fig = plt.figure(figsize=(6*1.618,6))\n",
    "ax = fig.add_subplot(1,1,1)\n",
    "plot_densities(stack_x, stacked=True, prop=optimized_proportions, ax=ax, xlabel=r'$Z_1$', title='Optimized Proportions')\n",
    "plot_data1d_histogram(test_data[:,0], bins=100,normed=True, ax=ax, xlabel=r'$Z_1$', title='Optimized Proportions');\n",
    "if save_fig: fig.savefig(optimized_stacked_x_fout)\n",
    "\n",
    "fig = plt.figure(figsize=(6*1.618,6))\n",
    "ax = fig.add_subplot(1,1,1)\n",
    "plot_densities(stack_y, stacked=True, prop=optimized_proportions, ax=ax, xlabel=r'$Z_2$', title='Optimized Proportions')\n",
    "plot_data1d_histogram(test_data[:,1], bins=100,normed=True, ax=ax, xlabel=r'$Z_2$', title='Optimized Proportions');\n",
    "if save_fig: fig.savefig(optimized_stacked_y_fout)"
   ]
  },
  {
   "cell_type": "code",
   "execution_count": null,
   "metadata": {
    "collapsed": false
   },
   "outputs": [],
   "source": [
    "if plot_truth_stack:\n",
    "    fig = plt.figure(figsize=(6*1.618,6))\n",
    "    ax = fig.add_subplot(1,1,1)\n",
    "    plot_densities(stack_x, stacked=True, prop=true_proportions, ax=ax, xlabel=r'$Z_1$', title='True Proportions')\n",
    "    plot_data1d_histogram(test_data[:,0], bins=100,normed=True, ax=ax, xlabel=r'$Z_1$', title='True Proportions');\n",
    "    if save_fig: fig.savefig(truth_stacked_x_fout)\n",
    "\n",
    "    fig = plt.figure(figsize=(6*1.618,6))\n",
    "    ax = fig.add_subplot(1,1,1)\n",
    "    plot_densities(stack_y, stacked=True, prop=true_proportions, ax=ax, xlabel=r'$Z_2$', title='True Proportions')\n",
    "    plot_data1d_histogram(test_data[:,1], bins=100,normed=True, ax=ax, xlabel=r'$Z_2$', title='True Proportions');\n",
    "    if save_fig: fig.savefig(truth_stacked_x_fout)"
   ]
  },
  {
   "cell_type": "code",
   "execution_count": null,
   "metadata": {
    "collapsed": true
   },
   "outputs": [],
   "source": []
  }
 ],
 "metadata": {
  "kernelspec": {
   "display_name": "Python 2",
   "language": "python",
   "name": "python2"
  },
  "language_info": {
   "codemirror_mode": {
    "name": "ipython",
    "version": 2
   },
   "file_extension": ".py",
   "mimetype": "text/x-python",
   "name": "python",
   "nbconvert_exporter": "python",
   "pygments_lexer": "ipython2",
   "version": "2.7.12"
  }
 },
 "nbformat": 4,
 "nbformat_minor": 0
}
