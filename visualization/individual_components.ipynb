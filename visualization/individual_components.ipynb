{
 "cells": [
  {
   "cell_type": "code",
   "execution_count": null,
   "metadata": {
    "collapsed": false
   },
   "outputs": [],
   "source": [
    "%matplotlib inline\n",
    "import numpy as np\n",
    "import matplotlib.pyplot as plt\n",
    "from utils.matplotlib_visualization_utils import plot_contour2d, plot_data2d, plot_data1d, plot_data1d_histogram\n",
    "from utils.matplotlib_visualization_utils import plot_kde2d_summary\n",
    "\n",
    "from ConfigParser import SafeConfigParser"
   ]
  },
  {
   "cell_type": "code",
   "execution_count": null,
   "metadata": {
    "collapsed": true
   },
   "outputs": [],
   "source": [
    "mpl_plot_config_fname = "
   ]
  },
  {
   "cell_type": "code",
   "execution_count": null,
   "metadata": {
    "collapsed": false
   },
   "outputs": [],
   "source": [
    "parser = SafeConfigParser()\n",
    "parser.read(mpl_plot_config_fname)\n",
    "\n",
    "evttypes = map(int, parser.get('individual', 'evttypes').split())\n",
    "training_data_dir = parser.get('individual', 'training_data_dir')\n",
    "mpl_data_dir = parser.get('individual', 'mpl_data_dir')\n",
    "\n",
    "scatter_fin_template = parser.get('individual', 'scatter_fin_template')\n",
    "training_fin_template = parser.get('individual', 'training_fin_template')\n",
    "kde2d_fin_template = parser.get('individual', 'kde2d_fin_template')\n",
    "kde1dx_fin_template = parser.get('individual', 'kde1dx_fin_template')\n",
    "kde1dy_fin_template = parser.get('individual', 'kde1dy_fin_template')\n",
    "\n",
    "kde2d_fout_template = parser.get('individual', 'kde2d_fout_template')\n",
    "kde1dx_fout_template = parser.get('individual', 'kde1dx_fout_template')\n",
    "kde1dy_fout_template = parser.get('individual', 'kde1dy_fout_template')\n",
    "\n",
    "plot_scatter = bool(int(parser.get('individual', 'plot_scatter')))\n",
    "save_fig = bool(int(parser.get('individual', 'save_fig')))"
   ]
  },
  {
   "cell_type": "code",
   "execution_count": null,
   "metadata": {
    "collapsed": false
   },
   "outputs": [],
   "source": [
    "if plot_scatter:\n",
    "    figsize = (3,2)\n",
    "    fig = plt.figure(figsize=(8*figsize[1],8*figsize[0]))\n",
    "    for i in evttypes:\n",
    "        ax = fig.add_subplot(figsize[0], figsize[1], i)\n",
    "        plot_data2d(mpl_data_dir+'/'+scatter_fin_template.format(i), ax=ax, marker='.', s=2)"
   ]
  },
  {
   "cell_type": "code",
   "execution_count": null,
   "metadata": {
    "collapsed": false
   },
   "outputs": [],
   "source": [
    "figsize = (3,2)\n",
    "fig = plt.figure(figsize=(8*figsize[1],8*figsize[0]))\n",
    "for i in evttypes:\n",
    "    ax = fig.add_subplot(figsize[0], figsize[1], i)\n",
    "    plot_contour2d(mpl_data_dir+'/'+kde2d_fin_template.format(i), ax=ax, nlevels=10, colorbar=False)"
   ]
  },
  {
   "cell_type": "code",
   "execution_count": null,
   "metadata": {
    "collapsed": false
   },
   "outputs": [],
   "source": [
    "figsize = (3,2)\n",
    "fig = plt.figure(figsize=(6*1.618*figsize[1],6*figsize[0]))\n",
    "for i in evttypes:\n",
    "    arr = np.genfromtxt(training_data_dir+'/'+training_fin_template.format(i))\n",
    "    ax = fig.add_subplot(figsize[0], figsize[1], i)\n",
    "    plot_data1d(mpl_data_dir+'/'+kde1dx_fin_template.format(i), ax=ax, xlabel=r'$Z_1$', title='event type {0}'.format(i))\n",
    "    plot_data1d_histogram(arr[:,0], weights=arr[:,2],bins=100,normed=True, \n",
    "                          ax=ax, xlabel=r'$Z_1$', title='event type {0}'.format(i));"
   ]
  },
  {
   "cell_type": "code",
   "execution_count": null,
   "metadata": {
    "collapsed": false
   },
   "outputs": [],
   "source": [
    "figsize = (3,2)\n",
    "fig = plt.figure(figsize=(6*1.618*figsize[1],6*figsize[0]))\n",
    "for i in evttypes:\n",
    "    arr = np.genfromtxt(training_data_dir+'/'+training_fin_template.format(i))\n",
    "    ax = fig.add_subplot(figsize[0], figsize[1], i)\n",
    "    plot_data1d(mpl_data_dir+'/'+kde1dy_fin_template.format(i), ax=ax, xlabel=r'$Z_2$', title='event type {0}'.format(i))\n",
    "    plot_data1d_histogram(arr[:,1], weights=arr[:,2],bins=100,normed=True, ax=ax,\n",
    "                          xlabel=r'$Z_2$', title='event type {0}'.format(i));"
   ]
  },
  {
   "cell_type": "code",
   "execution_count": null,
   "metadata": {
    "collapsed": false,
    "scrolled": false
   },
   "outputs": [],
   "source": [
    "if save_fig:\n",
    "    for i in evttypes:\n",
    "        fig = plt.figure(figsize=(8,8))\n",
    "        ax = fig.add_subplot(1,1,1)\n",
    "        plot_contour2d(mpl_data_dir+'/'+kde2d_fin_template.format(i), ax=ax, \n",
    "                       nlevels=10, colorbar=False,\n",
    "                       xlabel=r'$Z_1$', ylabel=r'$Z_2$', title='Event type {0}'.format(i))\n",
    "        fig.savefig(kde2d_fout_template.format(i))"
   ]
  },
  {
   "cell_type": "code",
   "execution_count": null,
   "metadata": {
    "collapsed": false,
    "scrolled": false
   },
   "outputs": [],
   "source": [
    "if save_fig:\n",
    "    for i in evttypes:\n",
    "        fig = plt.figure(figsize=(6*1.618,6))\n",
    "        arr = np.genfromtxt(training_data_dir+'/'+training_fin_template.format(i))\n",
    "        ax = fig.add_subplot(1,1,1)\n",
    "        plot_data1d(mpl_data_dir+'/'+kde1dx_fin_template.format(i), ax=ax, xlabel=r'$Z_1$', title='Event type {0}'.format(i))\n",
    "        plot_data1d_histogram(arr[:,0], weights=arr[:,2],bins=100,normed=True, ax=ax,\n",
    "                              xlabel=r'$Z_1$', title='Event type {0}'.format(i));\n",
    "        fig.savefig(kde1dx_fout_template.format(i))"
   ]
  },
  {
   "cell_type": "code",
   "execution_count": null,
   "metadata": {
    "collapsed": false,
    "scrolled": false
   },
   "outputs": [],
   "source": [
    "if save_fig:\n",
    "    for i in evttypes:\n",
    "        fig = plt.figure(figsize=(6*1.618,6))\n",
    "        arr = np.genfromtxt(training_data_dir+'/'+training_fin_template.format(i))\n",
    "        ax = fig.add_subplot(1,1,1)\n",
    "        plot_data1d(mpl_data_dir+'/'+kde1dy_fin_template.format(i), ax=ax, xlabel=r'$Z_2$', title='event type {0}'.format(i))\n",
    "        plot_data1d_histogram(arr[:,1], weights=arr[:,2],bins=100,normed=True, ax=ax,\n",
    "                              xlabel=r'$Z_2$', title='event type {0}'.format(i));\n",
    "        fig.savefig(kde1dy_fout_template.format(i))"
   ]
  },
  {
   "cell_type": "code",
   "execution_count": null,
   "metadata": {
    "collapsed": true
   },
   "outputs": [],
   "source": []
  },
  {
   "cell_type": "code",
   "execution_count": null,
   "metadata": {
    "collapsed": false
   },
   "outputs": [],
   "source": []
  },
  {
   "cell_type": "code",
   "execution_count": null,
   "metadata": {
    "collapsed": true
   },
   "outputs": [],
   "source": []
  }
 ],
 "metadata": {
  "kernelspec": {
   "display_name": "Python 2",
   "language": "python",
   "name": "python2"
  },
  "language_info": {
   "codemirror_mode": {
    "name": "ipython",
    "version": 2
   },
   "file_extension": ".py",
   "mimetype": "text/x-python",
   "name": "python",
   "nbconvert_exporter": "python",
   "pygments_lexer": "ipython2",
   "version": "2.7.12"
  }
 },
 "nbformat": 4,
 "nbformat_minor": 0
}
